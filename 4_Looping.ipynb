{
  "nbformat": 4,
  "nbformat_minor": 0,
  "metadata": {
    "colab": {
      "name": "4_Looping.ipynb",
      "provenance": [],
      "authorship_tag": "ABX9TyMBg99nM/PcYB3uhwLjM8ES",
      "include_colab_link": true
    },
    "kernelspec": {
      "name": "python3",
      "display_name": "Python 3"
    },
    "language_info": {
      "name": "python"
    }
  },
  "cells": [
    {
      "cell_type": "markdown",
      "metadata": {
        "id": "view-in-github",
        "colab_type": "text"
      },
      "source": [
        "<a href=\"https://colab.research.google.com/github/Manish-code/DivineAI/blob/main/4_Looping.ipynb\" target=\"_parent\"><img src=\"https://colab.research.google.com/assets/colab-badge.svg\" alt=\"Open In Colab\"/></a>"
      ]
    },
    {
      "cell_type": "markdown",
      "metadata": {
        "id": "PJeqSgsiY5BT"
      },
      "source": [
        "# For Loop"
      ]
    },
    {
      "cell_type": "code",
      "metadata": {
        "colab": {
          "base_uri": "https://localhost:8080/"
        },
        "id": "NuXWjfJNY8db",
        "outputId": "1f99b949-0cb0-4c10-ce9a-c598a7c85eb0"
      },
      "source": [
        "name = \"musa\"\n",
        "\n",
        "for char in name:\n",
        "    print(char)\n",
        "\n",
        "# range(a, b, c): >=a to < b, c is the weight of each step[optional]\n",
        "for number in range(-3, 5, 2):\n",
        "    print(number)\n",
        "\n",
        "prices = [10, 12, 15, 9, 11, 13]\n",
        "\n",
        "for price in prices:\n",
        "    print(price)\n",
        "\n",
        "for _ in range(4):\n",
        "    print(\"lol\")"
      ],
      "execution_count": 1,
      "outputs": [
        {
          "output_type": "stream",
          "text": [
            "m\n",
            "u\n",
            "s\n",
            "a\n",
            "-3\n",
            "-1\n",
            "1\n",
            "3\n",
            "10\n",
            "12\n",
            "15\n",
            "9\n",
            "11\n",
            "13\n",
            "lol\n",
            "lol\n",
            "lol\n",
            "lol\n"
          ],
          "name": "stdout"
        }
      ]
    },
    {
      "cell_type": "markdown",
      "metadata": {
        "id": "uqMKk-BeZEhW"
      },
      "source": [
        "# While Loop"
      ]
    },
    {
      "cell_type": "code",
      "metadata": {
        "colab": {
          "base_uri": "https://localhost:8080/"
        },
        "id": "n2Hj1SAtZHWF",
        "outputId": "d06666d6-be07-4379-a017-5501c0219087"
      },
      "source": [
        "val = 1\n",
        "while val < 20:\n",
        "    print(val)\n",
        "    val += 4\n",
        "\n",
        "print(\"what's the password?\")\n",
        "msg = input()\n",
        "while msg != \"lana\":\n",
        "    print(\"WRONG!\")\n",
        "    print(\"what's the password?\")\n",
        "    msg = input()\n",
        "print(\"CORRECT!\")"
      ],
      "execution_count": 3,
      "outputs": [
        {
          "output_type": "stream",
          "text": [
            "1\n",
            "5\n",
            "9\n",
            "13\n",
            "17\n",
            "what's the password?\n",
            "lana\n",
            "CORRECT!\n"
          ],
          "name": "stdout"
        }
      ]
    },
    {
      "cell_type": "markdown",
      "metadata": {
        "id": "bPSreeuIZavg"
      },
      "source": [
        "Smile Pyramid Using For loop"
      ]
    },
    {
      "cell_type": "code",
      "metadata": {
        "colab": {
          "base_uri": "https://localhost:8080/"
        },
        "id": "mjBqQ7vJZkEB",
        "outputId": "5680d574-e1f5-4347-add5-7f051b85cbdb"
      },
      "source": [
        "num = 7\n",
        "for times in range(num):\n",
        "    for x in range(times):\n",
        "        print(\"\\U0001f600\", end=' ')\n",
        "    print()"
      ],
      "execution_count": 4,
      "outputs": [
        {
          "output_type": "stream",
          "text": [
            "\n",
            "😀 \n",
            "😀 😀 \n",
            "😀 😀 😀 \n",
            "😀 😀 😀 😀 \n",
            "😀 😀 😀 😀 😀 \n",
            "😀 😀 😀 😀 😀 😀 \n"
          ],
          "name": "stdout"
        }
      ]
    },
    {
      "cell_type": "markdown",
      "metadata": {
        "id": "az90dXDAZozY"
      },
      "source": [
        "Smile Pyramid Using While Loop"
      ]
    },
    {
      "cell_type": "code",
      "metadata": {
        "colab": {
          "base_uri": "https://localhost:8080/"
        },
        "id": "-l3_gMrRZs11",
        "outputId": "f8e75ebb-6961-47e4-fa4f-1a089e519c29"
      },
      "source": [
        "num = 1\n",
        "\n",
        "while num < 7:\n",
        "    x = 1\n",
        "    while x <= num:\n",
        "        print(\"\\U0001f600\", end=' ')\n",
        "        x += 1\n",
        "    print()\n",
        "    num += 1\n"
      ],
      "execution_count": 5,
      "outputs": [
        {
          "output_type": "stream",
          "text": [
            "😀 \n",
            "😀 😀 \n",
            "😀 😀 😀 \n",
            "😀 😀 😀 😀 \n",
            "😀 😀 😀 😀 😀 \n",
            "😀 😀 😀 😀 😀 😀 \n"
          ],
          "name": "stdout"
        }
      ]
    }
  ]
}