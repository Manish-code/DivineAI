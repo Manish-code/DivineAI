{
  "nbformat": 4,
  "nbformat_minor": 0,
  "metadata": {
    "colab": {
      "name": "3_BooleanConditional.ipynb",
      "provenance": [],
      "authorship_tag": "ABX9TyOZf/F2OyZPCvBsKq6V1oBn",
      "include_colab_link": true
    },
    "kernelspec": {
      "name": "python3",
      "display_name": "Python 3"
    },
    "language_info": {
      "name": "python"
    }
  },
  "cells": [
    {
      "cell_type": "markdown",
      "metadata": {
        "id": "view-in-github",
        "colab_type": "text"
      },
      "source": [
        "<a href=\"https://colab.research.google.com/github/Manish-code/DivineAI/blob/main/3_BooleanConditional.ipynb\" target=\"_parent\"><img src=\"https://colab.research.google.com/assets/colab-badge.svg\" alt=\"Open In Colab\"/></a>"
      ]
    },
    {
      "cell_type": "markdown",
      "metadata": {
        "id": "FgMhmgBaU2yx"
      },
      "source": [
        "**User Input**"
      ]
    },
    {
      "cell_type": "code",
      "metadata": {
        "colab": {
          "base_uri": "https://localhost:8080/"
        },
        "id": "aV9mpRXSVDFV",
        "outputId": "bb269cf6-b5c6-4709-9163-211a46b59054"
      },
      "source": [
        "print(\"What's your favorite color?\")\n",
        "color = input()\n",
        "print(\"Your color is: \" + color)"
      ],
      "execution_count": 2,
      "outputs": [
        {
          "output_type": "stream",
          "text": [
            "What's your favorite color?\n",
            "black\n",
            "Your color is: black\n"
          ],
          "name": "stdout"
        }
      ]
    },
    {
      "cell_type": "markdown",
      "metadata": {
        "id": "MAOZzAgGVl9I"
      },
      "source": [
        "**If Condition**"
      ]
    },
    {
      "cell_type": "code",
      "metadata": {
        "colab": {
          "base_uri": "https://localhost:8080/"
        },
        "id": "Izo_An5OVr5q",
        "outputId": "010467c2-1f77-41c9-c248-e1afcd26ec79"
      },
      "source": [
        "name = \"humayun\"\n",
        "\n",
        "if name is \"humayun\":\n",
        "    print(\"First Name\")\n",
        "elif name is \"kabir\":\n",
        "    print(\"Last Name\")\n",
        "else:\n",
        "    print(\"Wrong Name\")\n",
        "\n",
        "name = \"kabir\"\n",
        "if name == \"humayun\":\n",
        "    print(\"First Name\")\n",
        "elif name == \"kabir\":\n",
        "    print(\"Last Name\")\n",
        "else:\n",
        "    print(\"Wrong Name\")"
      ],
      "execution_count": 3,
      "outputs": [
        {
          "output_type": "stream",
          "text": [
            "First Name\n",
            "Last Name\n"
          ],
          "name": "stdout"
        }
      ]
    },
    {
      "cell_type": "markdown",
      "metadata": {
        "id": "x176TGz2VwHT"
      },
      "source": [
        "**Multi** **elifs**"
      ]
    },
    {
      "cell_type": "code",
      "metadata": {
        "colab": {
          "base_uri": "https://localhost:8080/"
        },
        "id": "InfxcZWRV3-B",
        "outputId": "5f4c4612-a209-4dea-c7d2-cabe61e71e24"
      },
      "source": [
        "print(\"Give a rating on my work(out of 5)!\")\n",
        "rate = int(input())\n",
        "\n",
        "if rate is 5:\n",
        "    print(\"Excellent\")\n",
        "elif rate is 4:\n",
        "    print(\"Very Good\")\n",
        "elif rate is 3:\n",
        "    print(\"Good\")\n",
        "elif rate is 2:\n",
        "    print(\"Not Good\")\n",
        "elif rate is 1:\n",
        "    print(\"Bad\")\n",
        "else:\n",
        "    print(\"Rating should be in 1 to 5\")"
      ],
      "execution_count": 4,
      "outputs": [
        {
          "output_type": "stream",
          "text": [
            "Give a rating on my work(out of 5)!\n",
            "5\n",
            "Excellent\n"
          ],
          "name": "stdout"
        }
      ]
    },
    {
      "cell_type": "markdown",
      "metadata": {
        "id": "j43dQALuWAQB"
      },
      "source": [
        "**Logical Operator**"
      ]
    },
    {
      "cell_type": "code",
      "metadata": {
        "colab": {
          "base_uri": "https://localhost:8080/"
        },
        "id": "tre2US96WHv5",
        "outputId": "f0b26120-d2a3-4536-e3d5-786af87bab28"
      },
      "source": [
        "age, sex = 20, \"Female\"\n",
        "\n",
        "if age > 18 and sex is \"Female\":\n",
        "    print(\"Go and Get Marry\")\n",
        "else:\n",
        "    print(\"You don't have marry\")"
      ],
      "execution_count": 5,
      "outputs": [
        {
          "output_type": "stream",
          "text": [
            "Go and Get Marry\n"
          ],
          "name": "stdout"
        }
      ]
    }
  ]
}