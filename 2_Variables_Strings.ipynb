{
  "nbformat": 4,
  "nbformat_minor": 0,
  "metadata": {
    "colab": {
      "name": "2_Variables_Strings.ipynb",
      "provenance": [],
      "authorship_tag": "ABX9TyPRifUQUbvJ8c3D38dEdc0d",
      "include_colab_link": true
    },
    "kernelspec": {
      "name": "python3",
      "display_name": "Python 3"
    },
    "language_info": {
      "name": "python"
    }
  },
  "cells": [
    {
      "cell_type": "markdown",
      "metadata": {
        "id": "view-in-github",
        "colab_type": "text"
      },
      "source": [
        "<a href=\"https://colab.research.google.com/github/Manish-code/DivineAI/blob/main/2_Variables_Strings.ipynb\" target=\"_parent\"><img src=\"https://colab.research.google.com/assets/colab-badge.svg\" alt=\"Open In Colab\"/></a>"
      ]
    },
    {
      "cell_type": "markdown",
      "metadata": {
        "id": "3qWjjNSqQYsu"
      },
      "source": [
        "# `Variables`"
      ]
    },
    {
      "cell_type": "code",
      "metadata": {
        "colab": {
          "base_uri": "https://localhost:8080/"
        },
        "id": "fT2OQg5eQgPF",
        "outputId": "699fff4e-a1e9-4730-e7da-699d97012c43"
      },
      "source": [
        "num = 99\n",
        "print(num * 2)\n",
        "print(num)\n",
        "\n",
        "num *= 2 \n",
        "# same as num = num*2\n",
        "print(num)\n",
        "\n",
        "#Naming Convension\n",
        "#snake_case\n",
        "snake_case = 10\n",
        "\n",
        "#for constants\n",
        "CAPITAL_SNAKE_CASE, PI = 100, 3.14159603\n",
        "#for class\n",
        "class UpperCamelCase:\n",
        "    pass\n",
        "\n",
        "\n"
      ],
      "execution_count": 1,
      "outputs": [
        {
          "output_type": "stream",
          "text": [
            "198\n",
            "99\n",
            "198\n"
          ],
          "name": "stdout"
        }
      ]
    },
    {
      "cell_type": "markdown",
      "metadata": {
        "id": "9lyiNbhqRGqL"
      },
      "source": [
        "#dunders ('d'ouble 'unders'cores) means something u shouldn't touch\n"
      ]
    },
    {
      "cell_type": "markdown",
      "metadata": {
        "id": "6YD3X0z3Rj1o"
      },
      "source": [
        "Datatypes\n"
      ]
    },
    {
      "cell_type": "code",
      "metadata": {
        "colab": {
          "base_uri": "https://localhost:8080/"
        },
        "id": "2clHYCP3RyMJ",
        "outputId": "792fd314-6b3c-4a0a-aca7-0fe1edcacb2c"
      },
      "source": [
        "#bool\n",
        "is_active = True\n",
        "inactive = not is_active\n",
        "print(is_active)\n",
        "print(not is_active)\n",
        "print(inactive)\n",
        "print(not inactive)\n",
        "\n",
        "#str\n",
        "some_string = \"hello i am srting!\"\n",
        "print(some_string)\n",
        "\n",
        "#list\n",
        "my_number = [1, 2, 4, 3]\n",
        "print(my_number)\n",
        "print(my_number[2])\n",
        "\n",
        "#dict\n",
        "my_name = {'first_name': \"Humayun\", 'last_name': \"Kabir\"}\n",
        "print(my_name)\n",
        "print(my_name['first_name'])\n",
        "print(my_name['last_name'])"
      ],
      "execution_count": 2,
      "outputs": [
        {
          "output_type": "stream",
          "text": [
            "True\n",
            "False\n",
            "False\n",
            "True\n",
            "hello i am srting!\n",
            "[1, 2, 4, 3]\n",
            "4\n",
            "{'first_name': 'Humayun', 'last_name': 'Kabir'}\n",
            "Humayun\n",
            "Kabir\n"
          ],
          "name": "stdout"
        }
      ]
    },
    {
      "cell_type": "markdown",
      "metadata": {
        "id": "-jDXI0XuSDHg"
      },
      "source": [
        "Dynamic Data Typing"
      ]
    },
    {
      "cell_type": "code",
      "metadata": {
        "colab": {
          "base_uri": "https://localhost:8080/"
        },
        "id": "Zhs-NTaQSIAN",
        "outputId": "fe1fde72-66da-49b8-9d0a-c31e326fe980"
      },
      "source": [
        "game_over = True\n",
        "print(game_over)\n",
        "\n",
        "game_over = \"Yes, it's over!\"\n",
        "print(game_over)\n",
        "\n",
        "game_over = 22/7\n",
        "print(game_over)\n",
        "\n",
        "#None is nothing\n",
        "game_over = None\n",
        "print(game_over)\n",
        "print(type(game_over))"
      ],
      "execution_count": 3,
      "outputs": [
        {
          "output_type": "stream",
          "text": [
            "True\n",
            "Yes, it's over!\n",
            "3.142857142857143\n",
            "None\n",
            "<class 'NoneType'>\n"
          ],
          "name": "stdout"
        }
      ]
    },
    {
      "cell_type": "markdown",
      "metadata": {
        "id": "yjHvsPNGSN4A"
      },
      "source": [
        "Strings"
      ]
    },
    {
      "cell_type": "code",
      "metadata": {
        "colab": {
          "base_uri": "https://localhost:8080/"
        },
        "id": "A5OafHA-SQMb",
        "outputId": "210b6c73-d59e-4821-8487-4f348398a5a7"
      },
      "source": [
        "single_qoute = 'hello'\n",
        "double_qoute = \"hello\"\n",
        "print(single_qoute)\n",
        "print(double_qoute)\n",
        "\n",
        "qoute = 'he said, \"hello there!\"'\n",
        "print(qoute)\n",
        "qoute = \"he said, 'hello there'\"\n",
        "print(qoute)\n",
        "\n",
        "qoute = \"he said, \\\"hello there!\\\"\"\n",
        "print(qoute)\n",
        "\n",
        "#string concatenation\n",
        "username = \"mhkm\"\n",
        "msg = \"Hello \" + username\n",
        "print(msg)\n",
        "\n",
        "#Formatting String\n",
        "name = \"Humayun\"\n",
        "msg = f\"Hello Mr. {name} Welcome!\"\n",
        "msg2 = \"Hello Mr. {} Welcome!\".format(name)\n",
        "print(msg)\n",
        "print(msg2)\n"
      ],
      "execution_count": 4,
      "outputs": [
        {
          "output_type": "stream",
          "text": [
            "hello\n",
            "hello\n",
            "he said, \"hello there!\"\n",
            "he said, 'hello there'\n",
            "he said, \"hello there!\"\n",
            "Hello mhkm\n",
            "Hello Mr. Humayun Welcome!\n",
            "Hello Mr. Humayun Welcome!\n"
          ],
          "name": "stdout"
        }
      ]
    },
    {
      "cell_type": "markdown",
      "metadata": {
        "id": "92awhXzOSTF1"
      },
      "source": [
        "Convert Data Types"
      ]
    },
    {
      "cell_type": "code",
      "metadata": {
        "colab": {
          "base_uri": "https://localhost:8080/"
        },
        "id": "kbhEyQXqSW3h",
        "outputId": "e98e3b4f-76fb-423f-947f-816f623d35dd"
      },
      "source": [
        "intx = 10\n",
        "print(type(intx))\n",
        "\n",
        "floatx = float(intx)\n",
        "print(floatx)"
      ],
      "execution_count": 5,
      "outputs": [
        {
          "output_type": "stream",
          "text": [
            "<class 'int'>\n",
            "10.0\n"
          ],
          "name": "stdout"
        }
      ]
    }
  ]
}