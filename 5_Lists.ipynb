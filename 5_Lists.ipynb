{
  "nbformat": 4,
  "nbformat_minor": 0,
  "metadata": {
    "colab": {
      "name": "5_Lists.ipynb",
      "provenance": [],
      "authorship_tag": "ABX9TyPDA0WYvOf/Z23vrN6ygoW4",
      "include_colab_link": true
    },
    "kernelspec": {
      "name": "python3",
      "display_name": "Python 3"
    },
    "language_info": {
      "name": "python"
    }
  },
  "cells": [
    {
      "cell_type": "markdown",
      "metadata": {
        "id": "view-in-github",
        "colab_type": "text"
      },
      "source": [
        "<a href=\"https://colab.research.google.com/github/Manish-code/DivineAI/blob/main/5_Lists.ipynb\" target=\"_parent\"><img src=\"https://colab.research.google.com/assets/colab-badge.svg\" alt=\"Open In Colab\"/></a>"
      ]
    },
    {
      "cell_type": "markdown",
      "metadata": {
        "id": "d2vTM3-0aQoK"
      },
      "source": [
        "**List**"
      ]
    },
    {
      "cell_type": "code",
      "metadata": {
        "colab": {
          "base_uri": "https://localhost:8080/"
        },
        "id": "2dUK4ralaHaK",
        "outputId": "5b43b77a-f29b-467b-c187-864a7a521554"
      },
      "source": [
        "my_list = [\"musa\", 25, True, 45.678]\n",
        "\n",
        "print(my_list)\n",
        "print(len(my_list))\n",
        "\n",
        "for item in my_list:\n",
        "    print(item, end=' ')\n",
        "print()\n",
        "\n",
        "r = range(1, 10)\n",
        "print(r)\n",
        "print(list(r))\n",
        "\n",
        "colors = [\"purple\", \"teal\", \"magenta\", \"blue\"]\n",
        "\n",
        "# iterate using for-loop\n",
        "for color in colors:\n",
        "    print(color, end=' ')\n",
        "print()\n",
        "\n",
        "# iterate using while loop\n",
        "x = 0\n",
        "while x < len(colors):\n",
        "    print(colors[x], end=' ')\n",
        "    x += 1"
      ],
      "execution_count": 1,
      "outputs": [
        {
          "output_type": "stream",
          "text": [
            "['musa', 25, True, 45.678]\n",
            "4\n",
            "musa 25 True 45.678 \n",
            "range(1, 10)\n",
            "[1, 2, 3, 4, 5, 6, 7, 8, 9]\n",
            "purple teal magenta blue \n",
            "purple teal magenta blue "
          ],
          "name": "stdout"
        }
      ]
    },
    {
      "cell_type": "markdown",
      "metadata": {
        "id": "rWi3Z8gzaRK0"
      },
      "source": [
        "**List Method**"
      ]
    },
    {
      "cell_type": "code",
      "metadata": {
        "colab": {
          "base_uri": "https://localhost:8080/"
        },
        "id": "k-6UsQ1HasLk",
        "outputId": "877b39d2-2747-4c4a-b744-0dee3331fa9e"
      },
      "source": [
        "# append: add one item to the list\n",
        "# extend: add more than one item to the list\n",
        "# insert: add one item at a given position\n",
        "# clear: remove all items from the list\n",
        "# demo: remove last element or element in the given position\n",
        "# remove: remove the first appearance of a given number\n",
        "\n",
        "list = []\n",
        "list.append(70)\n",
        "list.append(16)\n",
        "list.append(37)\n",
        "print(list)\n",
        "\n",
        "list_one = [1, 2, 4]\n",
        "list_two = [5, 6, 7, 8]\n",
        "list_one.insert(2, 3)\n",
        "print(list_one)\n",
        "\n",
        "# list_one.append(list_two)\n",
        "list_one.extend(list_two)\n",
        "print(list_one)\n",
        "\n",
        "demo = list_two\n",
        "print(demo)\n",
        "demo.clear()\n",
        "print(demo)\n",
        "\n",
        "\n",
        "demo = list_one\n",
        "print(demo.pop())\n",
        "print(demo.pop(1))\n",
        "\n",
        "nums = [1, 3, 4, 6, 5, 4]\n",
        "nums.remove(4)\n",
        "print(nums)"
      ],
      "execution_count": 2,
      "outputs": [
        {
          "output_type": "stream",
          "text": [
            "[70, 16, 37]\n",
            "[1, 2, 3, 4]\n",
            "[1, 2, 3, 4, 5, 6, 7, 8]\n",
            "[5, 6, 7, 8]\n",
            "[]\n",
            "8\n",
            "2\n",
            "[1, 3, 6, 5, 4]\n"
          ],
          "name": "stdout"
        }
      ]
    },
    {
      "cell_type": "markdown",
      "metadata": {
        "id": "NG0ZPgywaRi6"
      },
      "source": [
        "**List Method Advance**"
      ]
    },
    {
      "cell_type": "code",
      "metadata": {
        "colab": {
          "base_uri": "https://localhost:8080/"
        },
        "id": "Y8UedpAIauF2",
        "outputId": "0109bfcf-0aac-4caf-e57d-81ee39c2bd80"
      },
      "source": [
        "\n",
        "\n",
        "\n",
        "numbers = [5, 9, 5, 6, 7, 5, 8, 8, 9, 10, 15]\n",
        "# index\n",
        "print(numbers.index(5))         # first appearance of 5 #0\n",
        "print(numbers.index(5, 3))      # first appearance of 5 after index 3 #5\n",
        "print(numbers.index(9, 6, 9))   # first appearance of 5 in between index 6 & 9 #8\n",
        "print()\n",
        "\n",
        "# count()\n",
        "print(numbers.count(5))     #3\n",
        "print(numbers.count(14))    #0\n",
        "print(numbers.count(8))     #2\n",
        "\n",
        "# reverse()\n",
        "numbers.reverse()\n",
        "print(\"Reversed: \")\n",
        "print(numbers)\n",
        "\n",
        "# sort()\n",
        "numbers.sort()\n",
        "print(\"Sorted: \")\n",
        "print(numbers)\n"
      ],
      "execution_count": 3,
      "outputs": [
        {
          "output_type": "stream",
          "text": [
            "0\n",
            "5\n",
            "8\n",
            "\n",
            "3\n",
            "0\n",
            "2\n",
            "Reversed: \n",
            "[15, 10, 9, 8, 8, 5, 7, 6, 5, 9, 5]\n",
            "Sorted: \n",
            "[5, 5, 5, 6, 7, 8, 8, 9, 9, 10, 15]\n"
          ],
          "name": "stdout"
        }
      ]
    },
    {
      "cell_type": "markdown",
      "metadata": {
        "id": "6Bf2edb2aSOo"
      },
      "source": [
        "**List Slicing**"
      ]
    },
    {
      "cell_type": "code",
      "metadata": {
        "colab": {
          "base_uri": "https://localhost:8080/"
        },
        "id": "CnZNvr33axeE",
        "outputId": "b449cafe-e295-4613-9a7f-8d9683879eae"
      },
      "source": [
        "first_list = [1, 2, 3, 4, 5, 6]\n",
        "# exclusing counting\n",
        "print(first_list[3:])       # [4 5 6]\n",
        "print(first_list[:3])       # [1 2 3]\n",
        "print(first_list[2:5])      # [3 4 5]\n",
        "\n",
        "# [start:end:step]\n",
        "print(first_list[20:])      # []\n",
        "print(first_list[1::2])     # [2 4 6]\n",
        "print(first_list[1:6:2])    # [2 4 6]\n",
        "print(first_list[::2])      # [1 3 5]\n",
        "\n",
        "print(first_list[1::-1])    # [2 1]\n",
        "print(first_list[:1:-1])    # [6 5 4 3]\n",
        "print(first_list[2::-1])    # [3 2 1]\n"
      ],
      "execution_count": 4,
      "outputs": [
        {
          "output_type": "stream",
          "text": [
            "[4, 5, 6]\n",
            "[1, 2, 3]\n",
            "[3, 4, 5]\n",
            "[]\n",
            "[2, 4, 6]\n",
            "[2, 4, 6]\n",
            "[1, 3, 5]\n",
            "[2, 1]\n",
            "[6, 5, 4, 3]\n",
            "[3, 2, 1]\n"
          ],
          "name": "stdout"
        }
      ]
    }
  ]
}