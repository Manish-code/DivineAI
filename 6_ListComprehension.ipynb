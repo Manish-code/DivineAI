{
  "nbformat": 4,
  "nbformat_minor": 0,
  "metadata": {
    "colab": {
      "name": "6_ListComprehension.ipynb",
      "provenance": [],
      "authorship_tag": "ABX9TyMvWwAeGNLQLcLhITMmAmMu",
      "include_colab_link": true
    },
    "kernelspec": {
      "name": "python3",
      "display_name": "Python 3"
    },
    "language_info": {
      "name": "python"
    }
  },
  "cells": [
    {
      "cell_type": "markdown",
      "metadata": {
        "id": "view-in-github",
        "colab_type": "text"
      },
      "source": [
        "<a href=\"https://colab.research.google.com/github/Manish-code/DivineAI/blob/main/6_ListComprehension.ipynb\" target=\"_parent\"><img src=\"https://colab.research.google.com/assets/colab-badge.svg\" alt=\"Open In Colab\"/></a>"
      ]
    },
    {
      "cell_type": "markdown",
      "metadata": {
        "id": "7BMrfoPWcWaB"
      },
      "source": [
        "#List Comprehension"
      ]
    },
    {
      "cell_type": "code",
      "metadata": {
        "colab": {
          "base_uri": "https://localhost:8080/"
        },
        "id": "4aITRO4ucXcx",
        "outputId": "f9b03f41-e285-4616-be05-818d49f890ce"
      },
      "source": [
        "nums = [1, 2, 3, 4]\n",
        "\n",
        "nums = [x*10 for x in nums]\n",
        "\n",
        "print(nums)\n",
        "print([x * 10 for x in nums])\n",
        "\n",
        "name = 'humayun'\n",
        "\n",
        "_name = [char.upper() for char in name]\n",
        "print(_name)\n",
        "\n",
        "friends = [\"sriju\", \"tani\", \"puja\"]\n",
        "\n",
        "print([friend[0].upper() for friend in friends])\n",
        "# print(my_friend)\n",
        "\n",
        "numbers = range(1, 11)\n",
        "\n",
        "evens = [x for x in numbers if x % 2 == 0]\n",
        "odds  = [x for x in numbers if x % 2 == 1]\n",
        "print(evens)\n",
        "print(odds)\n",
        "\n",
        "special = [x * 2 if x % 2 == 0 else x / 2 for x in numbers]\n",
        "print(special)\n"
      ],
      "execution_count": 1,
      "outputs": [
        {
          "output_type": "stream",
          "text": [
            "[10, 20, 30, 40]\n",
            "[100, 200, 300, 400]\n",
            "['H', 'U', 'M', 'A', 'Y', 'U', 'N']\n",
            "['S', 'T', 'P']\n",
            "[2, 4, 6, 8, 10]\n",
            "[1, 3, 5, 7, 9]\n",
            "[0.5, 4, 1.5, 8, 2.5, 12, 3.5, 16, 4.5, 20]\n"
          ],
          "name": "stdout"
        }
      ]
    },
    {
      "cell_type": "markdown",
      "metadata": {
        "id": "zXnzdmrkcWt0"
      },
      "source": [
        "#Nested List"
      ]
    },
    {
      "cell_type": "code",
      "metadata": {
        "colab": {
          "base_uri": "https://localhost:8080/"
        },
        "id": "1UYUTydBbr0e",
        "outputId": "1c914f75-d2f0-4c54-9c97-f06d4a84e8e4"
      },
      "source": [
        "maze = [\n",
        "    [1, 2, 3],\n",
        "    [4, 5, 6],\n",
        "    [7, 8, 9]\n",
        "]\n",
        "\n",
        "for row in maze:\n",
        "    for val in row:\n",
        "        print(val, end=' ')\n",
        "    print()\n",
        "print(maze[2][2])\n",
        "print()\n",
        "print()\n",
        "[[print(val) for val in row ] for row in maze]\n",
        "\n"
      ],
      "execution_count": 2,
      "outputs": [
        {
          "output_type": "stream",
          "text": [
            "1 2 3 \n",
            "4 5 6 \n",
            "7 8 9 \n",
            "9\n",
            "\n",
            "\n",
            "1\n",
            "2\n",
            "3\n",
            "4\n",
            "5\n",
            "6\n",
            "7\n",
            "8\n",
            "9\n"
          ],
          "name": "stdout"
        },
        {
          "output_type": "execute_result",
          "data": {
            "text/plain": [
              "[[None, None, None], [None, None, None], [None, None, None]]"
            ]
          },
          "metadata": {
            "tags": []
          },
          "execution_count": 2
        }
      ]
    }
  ]
}