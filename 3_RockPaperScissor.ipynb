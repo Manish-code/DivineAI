{
  "nbformat": 4,
  "nbformat_minor": 0,
  "metadata": {
    "colab": {
      "name": "3_RockPaperScissor.ipynb",
      "provenance": [],
      "authorship_tag": "ABX9TyOnn7FisBwcs/Rkhxi+maFx",
      "include_colab_link": true
    },
    "kernelspec": {
      "name": "python3",
      "display_name": "Python 3"
    },
    "language_info": {
      "name": "python"
    }
  },
  "cells": [
    {
      "cell_type": "markdown",
      "metadata": {
        "id": "view-in-github",
        "colab_type": "text"
      },
      "source": [
        "<a href=\"https://colab.research.google.com/github/Manish-code/DivineAI/blob/main/3_RockPaperScissor.ipynb\" target=\"_parent\"><img src=\"https://colab.research.google.com/assets/colab-badge.svg\" alt=\"Open In Colab\"/></a>"
      ]
    },
    {
      "cell_type": "markdown",
      "metadata": {
        "id": "Kl6fm47VW5HI"
      },
      "source": [
        "**Fun Game**\n",
        "#Rock Paper Scissor\n",
        "Basic One\n"
      ]
    },
    {
      "cell_type": "code",
      "metadata": {
        "colab": {
          "base_uri": "https://localhost:8080/"
        },
        "id": "jK65iz3hXfAJ",
        "outputId": "9b0ed536-c7fc-4def-aed0-33a1e81dcbba"
      },
      "source": [
        "print(\"Rock...\")\n",
        "print(\"Papers...\")\n",
        "print(\"Scissors...\")\n",
        "\n",
        "player_one = input(\"Player 1, Make your move:\")\n",
        "player_two = input(\"Player 2, Make your move:\")\n",
        "\n",
        "if player_one == player_two:\n",
        "    print(\"Draw\")\n",
        "elif player_one == \"rock\":\n",
        "    if player_two == \"scissors\":\n",
        "        print(\"Player 1 WON!\")\n",
        "    elif player_two == \"papers\":\n",
        "        print(\"Palyer 2 WON\")\n",
        "elif player_one == \"papers\":\n",
        "    if player_two == \"rock\":\n",
        "        print(\"Palyer 1 WON\")\n",
        "    elif player_two == \"scissors\":\n",
        "        print(\"Palyer 2 WON\")\n",
        "elif player_one == \"scissors\":\n",
        "    if player_two == \"rock\":\n",
        "        print(\"Palyer 2 WON\")\n",
        "    elif player_two == \"papers\":\n",
        "        print(\"Palyer 1 WON\")\n",
        "else:\n",
        "    print(\"Something Wrong!\")"
      ],
      "execution_count": 2,
      "outputs": [
        {
          "output_type": "stream",
          "text": [
            "Rock...\n",
            "Papers...\n",
            "Scissors...\n",
            "Player 1, Make your move:papers\n",
            "Player 2, Make your move:scissors\n",
            "Palyer 2 WON\n"
          ],
          "name": "stdout"
        }
      ]
    },
    {
      "cell_type": "markdown",
      "metadata": {
        "id": "gAOO3rjrX5Wy"
      },
      "source": [
        "**Advanced**"
      ]
    },
    {
      "cell_type": "code",
      "metadata": {
        "colab": {
          "base_uri": "https://localhost:8080/"
        },
        "id": "tka-DbTTX-YB",
        "outputId": "3b44d278-e5bf-45f2-8d57-fcd3b3e4445c"
      },
      "source": [
        "import random\n",
        "\n",
        "print(\"Rock...\")\n",
        "print(\"Paper...\")\n",
        "print(\"Scissor...\")\n",
        "\n",
        "options = [\"rock\", \"papers\", \"scissors\"]\n",
        "print(\"Enter Your Move:\")\n",
        "me = input()\n",
        "\n",
        "rand = random.randint(0, 2)\n",
        "pc = options[rand]\n",
        "\n",
        "player_one = me\n",
        "player_two = pc\n",
        "\n",
        "print(f\"You Choose: {me}, PC choose {pc}\")\n",
        "\n",
        "if player_one == player_two:\n",
        "    print(\"Draw\")\n",
        "elif player_one == \"rock\":\n",
        "    if player_two == \"scissors\":\n",
        "        print(\"You WON!\")\n",
        "    elif player_two == \"papers\":\n",
        "        print(\"PC WON!\")\n",
        "elif player_one == \"papers\":\n",
        "    if player_two == \"rock\":\n",
        "        print(\"You WON!\")\n",
        "    elif player_two == \"scissors\":\n",
        "        print(\"PC WON!\")\n",
        "elif player_one == \"scissors\":\n",
        "    if player_two == \"rock\":\n",
        "        print(\"PC WON!\")\n",
        "    elif player_two == \"papers\":\n",
        "        print(\"You WON\")\n",
        "else:\n",
        "    print(\"Something Wrong!\")"
      ],
      "execution_count": 3,
      "outputs": [
        {
          "output_type": "stream",
          "text": [
            "Rock...\n",
            "Paper...\n",
            "Scissor...\n",
            "Enter Your Move:\n",
            "papers\n",
            "You Choose: papers, PC choose rock\n",
            "You WON!\n"
          ],
          "name": "stdout"
        }
      ]
    }
  ]
}