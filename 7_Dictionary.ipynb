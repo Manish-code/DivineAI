{
  "nbformat": 4,
  "nbformat_minor": 0,
  "metadata": {
    "colab": {
      "name": "7_Dictionary.ipynb",
      "provenance": [],
      "authorship_tag": "ABX9TyOYmfLglYjgfLfTfo0d1z9b",
      "include_colab_link": true
    },
    "kernelspec": {
      "name": "python3",
      "display_name": "Python 3"
    },
    "language_info": {
      "name": "python"
    }
  },
  "cells": [
    {
      "cell_type": "markdown",
      "metadata": {
        "id": "view-in-github",
        "colab_type": "text"
      },
      "source": [
        "<a href=\"https://colab.research.google.com/github/Manish-code/DivineAI/blob/main/7_Dictionary.ipynb\" target=\"_parent\"><img src=\"https://colab.research.google.com/assets/colab-badge.svg\" alt=\"Open In Colab\"/></a>"
      ]
    },
    {
      "cell_type": "markdown",
      "metadata": {
        "id": "Ip9whW8Sdp7R"
      },
      "source": [
        "#Dictionary"
      ]
    },
    {
      "cell_type": "code",
      "metadata": {
        "colab": {
          "base_uri": "https://localhost:8080/"
        },
        "id": "lGt-FpgZbzkw",
        "outputId": "2fb94930-74a8-4add-a236-fa59a8ac8665"
      },
      "source": [
        "person = {\n",
        "    'first_name': \"Humayun\",\n",
        "    'last_name': \"Kabir\",\n",
        "    'age': 25,\n",
        "    'sex': \"Male\",\n",
        "    'married': False\n",
        "}\n",
        "\n",
        "print(person['first_name'])\n",
        "print(person['sex'])\n",
        "\n",
        "for key in person.keys():\n",
        "    print(key)\n",
        "\n",
        "for value in person.values():\n",
        "    print(value)\n",
        "\n",
        "for key, value in person.items():\n",
        "    print(f\"{key} : {value}\")\n",
        "\n",
        "if 'sex' in person.values():\n",
        "    print(\"Yes, it have!\")"
      ],
      "execution_count": 1,
      "outputs": [
        {
          "output_type": "stream",
          "text": [
            "Humayun\n",
            "Male\n",
            "first_name\n",
            "last_name\n",
            "age\n",
            "sex\n",
            "married\n",
            "Humayun\n",
            "Kabir\n",
            "25\n",
            "Male\n",
            "False\n",
            "first_name : Humayun\n",
            "last_name : Kabir\n",
            "age : 25\n",
            "sex : Male\n",
            "married : False\n"
          ],
          "name": "stdout"
        }
      ]
    },
    {
      "cell_type": "markdown",
      "metadata": {
        "id": "vJdCQvWkdqRp"
      },
      "source": [
        "#Dictionary Method"
      ]
    },
    {
      "cell_type": "code",
      "metadata": {
        "colab": {
          "base_uri": "https://localhost:8080/"
        },
        "id": "-mmJ5Dyqdm4Q",
        "outputId": "78d70737-8157-4b05-82ab-109ecdc96bce"
      },
      "source": [
        "\n",
        "person = {\n",
        "    'first_name': \"Humayun\",\n",
        "    'last_name': \"Kabir\",\n",
        "    'age': 25,\n",
        "    'sex': \"Male\",\n",
        "    'married': False\n",
        "}\n",
        "\n",
        "# copy: copy a dictionary\n",
        "individual = person.copy()\n",
        "print(individual)\n",
        "\n",
        "print(person is individual)\n",
        "print(person == individual)\n",
        "\n",
        "# clear: delete everything\n",
        "individual.clear()\n",
        "print(individual)\n",
        "\n",
        "# fromkeys\n",
        "new_user = {}.fromkeys(['name', 'score', 'email'], 'unknown')\n",
        "print(new_user)\n",
        "\n",
        "# get\n",
        "name = person.get('first_name') # returns value of the key\n",
        "email = person.get('email')     # doesn't exist: None\n",
        "print(email)\n",
        "\n",
        "# pop\n",
        "person.pop('married')   # pop out the k-v pair of the given key\n",
        "print(person)\n",
        "\n",
        "# popitem\n",
        "print(person.popitem())  # pop randomly one item\n",
        "print(person)\n",
        "\n",
        "# update\n",
        "individual.update(person)\n",
        "print(individual)"
      ],
      "execution_count": 2,
      "outputs": [
        {
          "output_type": "stream",
          "text": [
            "{'first_name': 'Humayun', 'last_name': 'Kabir', 'age': 25, 'sex': 'Male', 'married': False}\n",
            "False\n",
            "True\n",
            "{}\n",
            "{'name': 'unknown', 'score': 'unknown', 'email': 'unknown'}\n",
            "None\n",
            "{'first_name': 'Humayun', 'last_name': 'Kabir', 'age': 25, 'sex': 'Male'}\n",
            "('sex', 'Male')\n",
            "{'first_name': 'Humayun', 'last_name': 'Kabir', 'age': 25}\n",
            "{'first_name': 'Humayun', 'last_name': 'Kabir', 'age': 25}\n"
          ],
          "name": "stdout"
        }
      ]
    },
    {
      "cell_type": "markdown",
      "metadata": {
        "id": "BgJI4x9wdqh_"
      },
      "source": [
        "# Data Modeling"
      ]
    },
    {
      "cell_type": "code",
      "metadata": {
        "colab": {
          "base_uri": "https://localhost:8080/"
        },
        "id": "EN7rZaQPdnIe",
        "outputId": "1b85f40a-4428-4373-9012-c03ca7e5ce8f"
      },
      "source": [
        "playlist = {\n",
        "    'title': \"Patagonia Bus\",\n",
        "    'author': \"Humayun\",\n",
        "    'songs': [\n",
        "        {\n",
        "            'song_title': \"Song One\",\n",
        "            'artist': ['Artist 1', 'Artist 2'],\n",
        "            'duration': 4.31,\n",
        "        },\n",
        "        {\n",
        "            'song_title': \"Song Two\",\n",
        "            'artist': ['Artist 1'],\n",
        "            'duration': 2.53,\n",
        "        },\n",
        "        {\n",
        "            'song_title': \"Song Three\",\n",
        "            'artist': ['Artist 1', 'Artist 2', 'Artist 3'],\n",
        "            'duration': 3.43,\n",
        "        }\n",
        "    ]\n",
        "}\n",
        "\n",
        "total_duration = 0.0\n",
        "for song in playlist['songs']:\n",
        "    total_duration += song['duration']\n",
        "    print(song['song_title'])\n",
        "print(total_duration)"
      ],
      "execution_count": 3,
      "outputs": [
        {
          "output_type": "stream",
          "text": [
            "Song One\n",
            "Song Two\n",
            "Song Three\n",
            "10.27\n"
          ],
          "name": "stdout"
        }
      ]
    },
    {
      "cell_type": "markdown",
      "metadata": {
        "id": "jus__Z0TdqxR"
      },
      "source": [
        "#Dictionary Comprehension"
      ]
    },
    {
      "cell_type": "code",
      "metadata": {
        "colab": {
          "base_uri": "https://localhost:8080/"
        },
        "id": "1xu3jvJJdnYw",
        "outputId": "2c3ced19-f03c-4f2a-c443-fefaf6e5ed6f"
      },
      "source": [
        "nums = {\n",
        "    'a': 1,\n",
        "    'b': 2,\n",
        "    'c': 3\n",
        "}\n",
        "sq_nums = {key: value **2 for key, value in nums.items()}\n",
        "print(sq_nums)\n",
        "\n",
        "sq_numbers = {num: num**2 for num in [1, 2, 3, 4, 5]}\n",
        "print(sq_numbers)\n",
        "\n",
        "str1 = 'ABC'\n",
        "str2 = '123'\n",
        "combo = {str1[i]:str2[i] for i in range(0, len(str1))}\n",
        "print(combo)\n",
        "\n",
        "num_list = [1, 2, 3, 4, 5, 6]\n",
        "parity = {num:(\"even\" if num % 2 == 0 else \"odd\") for num in num_list}\n",
        "print(parity)"
      ],
      "execution_count": 4,
      "outputs": [
        {
          "output_type": "stream",
          "text": [
            "{'a': 1, 'b': 4, 'c': 9}\n",
            "{1: 1, 2: 4, 3: 9, 4: 16, 5: 25}\n",
            "{'A': '1', 'B': '2', 'C': '3'}\n",
            "{1: 'odd', 2: 'even', 3: 'odd', 4: 'even', 5: 'odd', 6: 'even'}\n"
          ],
          "name": "stdout"
        }
      ]
    }
  ]
}